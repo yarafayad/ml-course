{
  "nbformat": 4,
  "nbformat_minor": 0,
  "metadata": {
    "anaconda-cloud": {},
    "kernelspec": {
      "display_name": "Python 3",
      "language": "python",
      "name": "python3"
    },
    "language_info": {
      "codemirror_mode": {
        "name": "ipython",
        "version": 3
      },
      "file_extension": ".py",
      "mimetype": "text/x-python",
      "name": "python",
      "nbconvert_exporter": "python",
      "pygments_lexer": "ipython3",
      "version": "3.7.1"
    },
    "colab": {
      "name": "Copy of Step_1 _1_Introduction_and_Operators.ipynb",
      "provenance": [],
      "collapsed_sections": [
        "Fn_NrHDBaEhQ"
      ],
      "include_colab_link": true
    }
  },
  "cells": [
    {
      "cell_type": "markdown",
      "metadata": {
        "id": "view-in-github",
        "colab_type": "text"
      },
      "source": [
        "<a href=\"https://colab.research.google.com/github/yarafayad/ml-course/blob/master/Copy_of_Step_1__1_Introduction_and_Operators.ipynb\" target=\"_parent\"><img src=\"https://colab.research.google.com/assets/colab-badge.svg\" alt=\"Open In Colab\"/></a>"
      ]
    },
    {
      "cell_type": "markdown",
      "metadata": {
        "id": "vOasMpnwaEgP",
        "colab_type": "text"
      },
      "source": [
        "#### My First Python program"
      ]
    },
    {
      "cell_type": "code",
      "metadata": {
        "id": "bjHrPwA3aEgS",
        "colab_type": "code",
        "outputId": "fa9f9674-3ac5-46a3-8f8d-8ac1a4a9264e",
        "colab": {
          "base_uri": "https://localhost:8080/",
          "height": 50
        }
      },
      "source": [
        "print(\"Hello, Python World!\")"
      ],
      "execution_count": 2,
      "outputs": [
        {
          "output_type": "stream",
          "text": [
            "Hello, Python World!\n",
            "ERROR! Session/line number was not unique in database. History logging moved to new session 59\n"
          ],
          "name": "stdout"
        }
      ]
    },
    {
      "cell_type": "markdown",
      "metadata": {
        "id": "1hHl0I6faEgb",
        "colab_type": "text"
      },
      "source": [
        "#### Script Mode Programming:\n",
        "\n",
        "You can put the above code into a notepad, save the file with extension .py (say script.py) and run it from command line interface using below command.\n",
        "\n",
        "python script.py"
      ]
    },
    {
      "cell_type": "markdown",
      "metadata": {
        "id": "H48UdLQUaEgc",
        "colab_type": "text"
      },
      "source": [
        "#### Python Identifier:\n",
        "\n",
        "Identifier is the name given to entities like class, functions, variables etc. in Python. It helps differentiating one entity from another.\n",
        "\n",
        "Rules for writing identifiers in Python:\n",
        "\n",
        "•\tIdentifiers can be a combination of letters in lowercase (a to z) or uppercase (A to Z) or digits (0 to 9) or an underscore (_). Names like myClass, var_1 and print_this_to_screen, all are valid example.\n",
        "•\tAn identifier cannot start with a digit. 1variable is invalid, but variable1 is perfectly fine.\n",
        "•\tKeywords cannot be used as identifiers.\n",
        "•\tWe cannot use special symbols like !, @, #, $, % etc. in our identifier"
      ]
    },
    {
      "cell_type": "code",
      "metadata": {
        "id": "GoQRAVYuaEgd",
        "colab_type": "code",
        "outputId": "8d615f30-47e1-4720-831c-6e592093af55",
        "colab": {
          "base_uri": "https://localhost:8080/",
          "height": 128
        }
      },
      "source": [
        "# variable name can not start with digit in front, 1variable will through syntax error\n",
        "1variable = 'Identifier can not start with number'"
      ],
      "execution_count": 0,
      "outputs": [
        {
          "output_type": "error",
          "ename": "SyntaxError",
          "evalue": "ignored",
          "traceback": [
            "\u001b[0;36m  File \u001b[0;32m\"<ipython-input-2-b63cba1f1bc2>\"\u001b[0;36m, line \u001b[0;32m1\u001b[0m\n\u001b[0;31m    1variable = 'Identifier can not start with number'\u001b[0m\n\u001b[0m            ^\u001b[0m\n\u001b[0;31mSyntaxError\u001b[0m\u001b[0;31m:\u001b[0m invalid syntax\n"
          ]
        }
      ]
    },
    {
      "cell_type": "code",
      "metadata": {
        "id": "YgZRP7bQaEgg",
        "colab_type": "code",
        "colab": {
          "base_uri": "https://localhost:8080/",
          "height": 128
        },
        "outputId": "4f4156b8-3ef4-4d91-fac5-d4116fe6d0c2"
      },
      "source": [
        "# using keywords as variable name will through error\n",
        "class = 1"
      ],
      "execution_count": 2,
      "outputs": [
        {
          "output_type": "error",
          "ename": "SyntaxError",
          "evalue": "ignored",
          "traceback": [
            "\u001b[0;36m  File \u001b[0;32m\"<ipython-input-3-0251f39d4826>\"\u001b[0;36m, line \u001b[0;32m1\u001b[0m\n\u001b[0;31m    class = 1\u001b[0m\n\u001b[0m          ^\u001b[0m\n\u001b[0;31mSyntaxError\u001b[0m\u001b[0;31m:\u001b[0m invalid syntax\n"
          ]
        }
      ]
    },
    {
      "cell_type": "code",
      "metadata": {
        "id": "82iz79ZyaEgk",
        "colab_type": "code",
        "colab": {
          "base_uri": "https://localhost:8080/",
          "height": 145
        },
        "outputId": "56b18664-4410-447b-9307-e884c4423b7a"
      },
      "source": [
        "# using special symbols as variable name will through error\n",
        "x@gmail = 'm.s@gmail.com'"
      ],
      "execution_count": 2,
      "outputs": [
        {
          "output_type": "error",
          "ename": "SyntaxError",
          "evalue": "ignored",
          "traceback": [
            "\u001b[0;36m  File \u001b[0;32m\"<ipython-input-3-83c26af462ad>\"\u001b[0;36m, line \u001b[0;32m1\u001b[0m\n\u001b[0;31m    x@gmail = 'm.s@gmail.com'\u001b[0m\n\u001b[0m                             ^\u001b[0m\n\u001b[0;31mSyntaxError\u001b[0m\u001b[0;31m:\u001b[0m can't assign to operator\n"
          ]
        },
        {
          "output_type": "stream",
          "text": [
            "ERROR! Session/line number was not unique in database. History logging moved to new session 60\n"
          ],
          "name": "stdout"
        }
      ]
    },
    {
      "cell_type": "markdown",
      "metadata": {
        "id": "eVqYW0auaEgp",
        "colab_type": "text"
      },
      "source": [
        "#### Basic Objec Types"
      ]
    },
    {
      "cell_type": "code",
      "metadata": {
        "id": "OfwZh7dyaEgq",
        "colab_type": "code",
        "colab": {
          "base_uri": "https://localhost:8080/",
          "height": 269
        },
        "outputId": "9f30e9b8-96b2-4a56-dc5a-f8f6a75b3da8"
      },
      "source": [
        "none = None # singleton null object\n",
        "boolean = bool(True)\n",
        "integer = 1\n",
        "Long = 3.14\n",
        "\n",
        "# float\n",
        "Float = 3.14\n",
        "Float_inf = float('inf')\n",
        "Float_nan = float('nan')\n",
        "\n",
        "# complex object type, note the usage of letter j\n",
        "Complex = 2+8j \n",
        "\n",
        "# string can be enclosed in single or double quote\n",
        "string = 'this is a string'\n",
        "me_also_string = \"also me\"\n",
        "\n",
        "List = [1, True, 'ML'] # Values can be changed\n",
        "\n",
        "Tuple = (1, True, 'ML') # Values can not be changed\n",
        "\n",
        "Set = set([1,2,2,2,3,4,5,5]) # Duplicates will not be stored\n",
        "\n",
        "# Use a dictionary when you have a set of unique keys that map to values\n",
        "Dictionary = {'a':'A', 2:'AA', True:1, False:0}\n",
        "\n",
        "# lets print the object type and the value\n",
        "print(type(none), none)\n",
        "print(type(boolean), boolean)\n",
        "print(type(integer), integer)\n",
        "print(type(Long), Long)\n",
        "print(type(Float), Float)\n",
        "print(type(Float_inf), Float_inf)\n",
        "print(type(Float_nan), Float_nan)\n",
        "print(type(Complex), Complex)\n",
        "print(type(string), string)\n",
        "print(type(me_also_string), me_also_string)\n",
        "print(type(Tuple), Tuple)\n",
        "print(type(List), List)\n",
        "print(type(Set), Set)\n",
        "print(type(Dictionary), Dictionary)"
      ],
      "execution_count": 3,
      "outputs": [
        {
          "output_type": "stream",
          "text": [
            "<class 'NoneType'> None\n",
            "<class 'bool'> True\n",
            "<class 'int'> 1\n",
            "<class 'float'> 3.14\n",
            "<class 'float'> 3.14\n",
            "<class 'float'> inf\n",
            "<class 'float'> nan\n",
            "<class 'complex'> (2+8j)\n",
            "<class 'str'> this is a string\n",
            "<class 'str'> also me\n",
            "<class 'tuple'> (1, True, 'ML')\n",
            "<class 'list'> [1, True, 'ML']\n",
            "<class 'set'> {1, 2, 3, 4, 5}\n",
            "<class 'dict'> {'a': 'A', 2: 'AA', True: 1, False: 0}\n",
            "ERROR! Session/line number was not unique in database. History logging moved to new session 61\n"
          ],
          "name": "stdout"
        }
      ]
    },
    {
      "cell_type": "markdown",
      "metadata": {
        "id": "758i7pgdaEgu",
        "colab_type": "text"
      },
      "source": [
        "#### Comments in Python\n",
        "\n",
        "•\tAll characters after the # and up to the physical line end are part of the comment and the Python interpreter ignores them\n",
        "•\tComments spanning more than one line are achieved by inserting a multi-line string (with \"\"\" as the delimiter one each end) that is not used in assignment or otherwise evaluated, but sits in between other statements"
      ]
    },
    {
      "cell_type": "code",
      "metadata": {
        "id": "-DgCuviCaEgv",
        "colab_type": "code",
        "colab": {
          "base_uri": "https://localhost:8080/",
          "height": 50
        },
        "outputId": "4b4c612e-9460-4cc7-8654-d61042d05ac2"
      },
      "source": [
        "# This is a comment in Python\n",
        "print(\"Hello Python World\") # This is also a comment in Python\n",
        "\n",
        "\"\"\" This is an example of a multi line\n",
        "comment that spans multiple lines.\n",
        "Everything that is in between is considered as comments\n",
        "\"\"\""
      ],
      "execution_count": 4,
      "outputs": [
        {
          "output_type": "stream",
          "text": [
            "Hello Python World\n"
          ],
          "name": "stdout"
        },
        {
          "output_type": "execute_result",
          "data": {
            "text/plain": [
              "' This is an example of a multi line\\ncomment that spans multiple lines.\\nEverything that is in between is considered as comments\\n'"
            ]
          },
          "metadata": {
            "tags": []
          },
          "execution_count": 4
        }
      ]
    },
    {
      "cell_type": "markdown",
      "metadata": {
        "id": "_XixOhvxaEgz",
        "colab_type": "text"
      },
      "source": [
        "#### Multiple statementson a single line"
      ]
    },
    {
      "cell_type": "code",
      "metadata": {
        "id": "GDrMHKd9aEg0",
        "colab_type": "code",
        "colab": {
          "base_uri": "https://localhost:8080/",
          "height": 34
        },
        "outputId": "fa6d902b-72e2-4da9-c6d3-209e18539f35"
      },
      "source": [
        "import sys; x = 'foo'; print(x)"
      ],
      "execution_count": 5,
      "outputs": [
        {
          "output_type": "stream",
          "text": [
            "foo\n"
          ],
          "name": "stdout"
        }
      ]
    },
    {
      "cell_type": "markdown",
      "metadata": {
        "collapsed": true,
        "id": "_qIJGV8ZaEg8",
        "colab_type": "text"
      },
      "source": [
        "##### Code Blocks\n",
        "\n"
      ]
    },
    {
      "cell_type": "code",
      "metadata": {
        "id": "0-abz16laEg9",
        "colab_type": "code",
        "colab": {
          "base_uri": "https://localhost:8080/",
          "height": 84
        },
        "outputId": "efac0823-1ac3-4d59-e405-7928c7e083e6"
      },
      "source": [
        "# Correct indentation\n",
        "print (\"Programming is an important skill for Data Science\")\n",
        "print (\"Statistics is an imporant skill for Data Science\")\n",
        "print (\"Business domain knowledge is a important skill for Data Science\")\n",
        "\n",
        "# Correct indentation, note that if statement here is an example of suites\n",
        "x = 1\n",
        "if x == 1:\n",
        "    print ('x has a value of 1')\n",
        "else:\n",
        "    print ('x does NOT have a value of 1')"
      ],
      "execution_count": 6,
      "outputs": [
        {
          "output_type": "stream",
          "text": [
            "Programming is an important skill for Data Science\n",
            "Statistics is an imporant skill for Data Science\n",
            "Business domain knowledge is a important skill for Data Science\n",
            "x has a value of 1\n"
          ],
          "name": "stdout"
        }
      ]
    },
    {
      "cell_type": "code",
      "metadata": {
        "id": "ueSPQJKJaEhD",
        "colab_type": "code",
        "colab": {
          "base_uri": "https://localhost:8080/",
          "height": 128
        },
        "outputId": "87e772d3-aac2-40af-d7b9-c121980b0afa"
      },
      "source": [
        "# incorrect indentation, program will generate a syntax error \n",
        "# due to the space character inserted at the beginning of second line\n",
        "print (\"Programming is an important skill for Data Science\")\n",
        " print (\"Statistics is an important skill for Data Science\")\n",
        "print (\"Business domain knowledge is a important skill for Data Science\")"
      ],
      "execution_count": 6,
      "outputs": [
        {
          "output_type": "error",
          "ename": "IndentationError",
          "evalue": "ignored",
          "traceback": [
            "\u001b[0;36m  File \u001b[0;32m\"<ipython-input-7-d7a0a093f887>\"\u001b[0;36m, line \u001b[0;32m2\u001b[0m\n\u001b[0;31m    print (\"Statistics is an important skill for Data Science\")\u001b[0m\n\u001b[0m    ^\u001b[0m\n\u001b[0;31mIndentationError\u001b[0m\u001b[0;31m:\u001b[0m unexpected indent\n"
          ]
        }
      ]
    },
    {
      "cell_type": "code",
      "metadata": {
        "id": "p9f5IRmTaEhI",
        "colab_type": "code",
        "colab": {
          "base_uri": "https://localhost:8080/",
          "height": 50
        },
        "outputId": "01c0ce4c-72df-4d32-987a-f049b669ea8a"
      },
      "source": [
        "# incorrect indentation, program will generate a syntax error\n",
        "# due to the wrong indentation in the else statement\n",
        "x = 1\n",
        "if x == 1:\n",
        "    print ('x has a value of 1')\n",
        "else:\n",
        " print ('x does NOT have a value of 1')"
      ],
      "execution_count": 7,
      "outputs": [
        {
          "output_type": "stream",
          "text": [
            "x has a value of 1\n",
            "ERROR! Session/line number was not unique in database. History logging moved to new session 62\n"
          ],
          "name": "stdout"
        }
      ]
    },
    {
      "cell_type": "markdown",
      "metadata": {
        "id": "hLDBuvpyaEhM",
        "colab_type": "text"
      },
      "source": [
        "#### Milti-line statements\n"
      ]
    },
    {
      "cell_type": "code",
      "metadata": {
        "id": "6SfekBFVaEhN",
        "colab_type": "code",
        "colab": {
          "base_uri": "https://localhost:8080/",
          "height": 84
        },
        "outputId": "39766f8e-4bf5-4543-f441-41e949ed20ec"
      },
      "source": [
        "# Example of implicit line continuation\n",
        "x = ('1' + '2' + \n",
        "    '3' + '4')\n",
        "\n",
        "# Example of explicit line continuation\n",
        "y = '1' + '2' + \\\n",
        "    '11' + '12'\n",
        "    \n",
        "weekdays = ['Monday', 'Tuesday', 'Wednesday', \n",
        "            'Thursday', 'Friday']\n",
        "\n",
        "weekend = {'Saturday',\n",
        "           'Sunday'}\n",
        "\n",
        "print ('x has a value of', x)\n",
        "print ('y has a value of', y)\n",
        "print (weekdays)\n",
        "print (weekend)"
      ],
      "execution_count": 8,
      "outputs": [
        {
          "output_type": "stream",
          "text": [
            "x has a value of 1234\n",
            "y has a value of 121112\n",
            "['Monday', 'Tuesday', 'Wednesday', 'Thursday', 'Friday']\n",
            "{'Saturday', 'Sunday'}\n"
          ],
          "name": "stdout"
        }
      ]
    },
    {
      "cell_type": "markdown",
      "metadata": {
        "id": "Fn_NrHDBaEhQ",
        "colab_type": "text"
      },
      "source": [
        "#### Basic Operators"
      ]
    },
    {
      "cell_type": "markdown",
      "metadata": {
        "id": "l_2Z9uZFaEhR",
        "colab_type": "text"
      },
      "source": [
        "#### Arithmetic operators\n",
        "\n",
        "Arithmetic operators are used to perform mathematical operations like addition, subtraction, multiplication etc."
      ]
    },
    {
      "cell_type": "code",
      "metadata": {
        "id": "LKv4aFuyaEhR",
        "colab_type": "code",
        "colab": {
          "base_uri": "https://localhost:8080/",
          "height": 134
        },
        "outputId": "62638f10-5e29-4c78-a90e-d7a1afce21f0"
      },
      "source": [
        "# Variable x holds 10 and variable y holds 5\n",
        "x = 10\n",
        "y = 5\n",
        "\n",
        "# Addition\n",
        "print (\"Addition, x(10) + y(5) = \", x + y)\n",
        "\n",
        "# Subtraction\n",
        "print (\"Subtraction, x(10) - y(5) = \", x - y)\n",
        "\n",
        "# Multiplication\n",
        "print (\"Multiplication, x(10) * y(5) = \", x * y) \n",
        "\n",
        "# Division\n",
        "print (\"Division, x(10) / y(5) = \", x / y)\n",
        "\n",
        "# Modulus\n",
        "print (\"Modulus, x(10) % y(5) = \", x % y)\n",
        "\n",
        "# Exponent\n",
        "print (\"Exponent, x(10)**y(5) = \", x**y)\n",
        "\n",
        "# Integer division rounded towards minus infinity\n",
        "print (\"Floor Division, x(10)//y(5) = \", x//y)"
      ],
      "execution_count": 9,
      "outputs": [
        {
          "output_type": "stream",
          "text": [
            "Addition, x(10) + y(5) =  15\n",
            "Subtraction, x(10) - y(5) =  5\n",
            "Multiplication, x(10) * y(5) =  50\n",
            "Division, x(10) / y(5) =  2.0\n",
            "Modulus, x(10) % y(5) =  0\n",
            "Exponent, x(10)**y(5) =  100000\n",
            "Floor Division, x(10)//y(5) =  2\n"
          ],
          "name": "stdout"
        }
      ]
    },
    {
      "cell_type": "markdown",
      "metadata": {
        "id": "_r8bfbV6aEhX",
        "colab_type": "text"
      },
      "source": [
        "#### Comparison operators\n",
        "\n",
        "Comparison operators are used to compare values. It either returns True or False according to the condition."
      ]
    },
    {
      "cell_type": "code",
      "metadata": {
        "id": "piZgsefCaEha",
        "colab_type": "code",
        "colab": {
          "base_uri": "https://localhost:8080/",
          "height": 118
        },
        "outputId": "51ee5901-a766-4525-d921-0c42b09977d2"
      },
      "source": [
        "# Variable x holds 10 and variable b holds 5\n",
        "# Equal check operation\n",
        "print (\"Equal check, x(10) == y(5) \", x == y)\n",
        "\n",
        "# Not Equal check operation\n",
        "print (\"Not Equal check, x(10) != y(5) \", x != y)\n",
        "\n",
        "# Less than check operation\n",
        "print (\"Less than check, x(10) < y(5) \", x < y)\n",
        "\n",
        "# Greater check operation\n",
        "print (\"Greater than check, x(10) > y(5) \", x > y)\n",
        "\n",
        "# Less than or equal check operation\n",
        "print (\"Less than or equal to check, x(10) <= y(5) \", x <= y)\n",
        "\n",
        "# Greater than or equal to check operation\n",
        "print (\"Greater than or equal to check, x(10) >= y(5) \", x >= y)"
      ],
      "execution_count": 10,
      "outputs": [
        {
          "output_type": "stream",
          "text": [
            "Equal check, x(10) == y(5)  False\n",
            "Not Equal check, x(10) != y(5)  True\n",
            "Less than check, x(10) < y(5)  False\n",
            "Greater than check, x(10) > y(5)  True\n",
            "Less than or equal to check, x(10) <= y(5)  False\n",
            "Greater than or equal to check, x(10) >= y(5)  True\n"
          ],
          "name": "stdout"
        }
      ]
    },
    {
      "cell_type": "markdown",
      "metadata": {
        "id": "0Ai6iFv7aEhe",
        "colab_type": "text"
      },
      "source": [
        "#### Assignment operations\n"
      ]
    },
    {
      "cell_type": "code",
      "metadata": {
        "id": "fjAHSY62aEhf",
        "colab_type": "code",
        "colab": {
          "base_uri": "https://localhost:8080/",
          "height": 118
        },
        "outputId": "33effdc8-3b1f-449e-e6d1-f10f953d2494"
      },
      "source": [
        "# Variable x holds 10 and variable y holds 5\n",
        "x = 5\n",
        "y = 10\n",
        "\n",
        "x += y\n",
        "print (\"Value of a post x+=y is \", x)\n",
        "\n",
        "x *= y\n",
        "print (\"Value of a post x*=y is \", x) \n",
        "\n",
        "x /= y \n",
        "print (\"Value of a post x/=y is \", x)\n",
        "\n",
        "x %= y\n",
        "print (\"Value of a post x%=y is \", x)\n",
        "\n",
        "x **= y\n",
        "print (\"Value of x post x**=y is \", x)\n",
        "\n",
        "x //= y\n",
        "print (\"Value of a post x//=y is \", x)"
      ],
      "execution_count": 11,
      "outputs": [
        {
          "output_type": "stream",
          "text": [
            "Value of a post x+=y is  15\n",
            "Value of a post x*=y is  150\n",
            "Value of a post x/=y is  15.0\n",
            "Value of a post x%=y is  5.0\n",
            "Value of x post x**=y is  9765625.0\n",
            "Value of a post x//=y is  976562.0\n"
          ],
          "name": "stdout"
        }
      ]
    },
    {
      "cell_type": "markdown",
      "metadata": {
        "id": "loK3HgbXaEhh",
        "colab_type": "text"
      },
      "source": [
        "#### Bitwise operations\n",
        "\n",
        "Bitwise operators act on operands as if they were string of binary digits. As the name suggest, it operates bit by bit."
      ]
    },
    {
      "cell_type": "code",
      "metadata": {
        "id": "4yqdzYYiaEhi",
        "colab_type": "code",
        "colab": {
          "base_uri": "https://localhost:8080/",
          "height": 118
        },
        "outputId": "ec6feca0-1997-4b07-98bc-b04b4dd3c154"
      },
      "source": [
        "# Basic six bitwise operations\n",
        "# Let x = 10 (0000 1010 in binary) and y = 4 (0000 0100 in binary)\n",
        "x = 10\n",
        "y = 4\n",
        "\n",
        "print (x >> y)  # Right Shift\n",
        "print (x << y)  # Left Shift\n",
        "print (x & y)   # Bitwise AND\n",
        "print (x | y)   # Bitwise OR\n",
        "print (x ^ y) # Bitwise XOR\n",
        "print (~x)    # Bitwise NOT"
      ],
      "execution_count": 12,
      "outputs": [
        {
          "output_type": "stream",
          "text": [
            "0\n",
            "160\n",
            "0\n",
            "14\n",
            "14\n",
            "-11\n"
          ],
          "name": "stdout"
        }
      ]
    },
    {
      "cell_type": "markdown",
      "metadata": {
        "id": "w6kf5QDkaEhl",
        "colab_type": "text"
      },
      "source": [
        "#### Logical operators\n",
        "\n",
        "Logical operators are the and, or, not operators."
      ]
    },
    {
      "cell_type": "code",
      "metadata": {
        "id": "w_E-qqTjaEhm",
        "colab_type": "code",
        "colab": {
          "base_uri": "https://localhost:8080/",
          "height": 67
        },
        "outputId": "be656500-7dff-4aec-da6b-78031d1f1ba3"
      },
      "source": [
        "var1 = True\n",
        "var2 = False\n",
        "print('var1 and var2 is',var1 and var2)\n",
        "print('var1 or var2 is',var1 or var2)\n",
        "print('not var1 is',not var1)"
      ],
      "execution_count": 13,
      "outputs": [
        {
          "output_type": "stream",
          "text": [
            "var1 and var2 is False\n",
            "var1 or var2 is True\n",
            "not var1 is False\n"
          ],
          "name": "stdout"
        }
      ]
    },
    {
      "cell_type": "markdown",
      "metadata": {
        "id": "4sENFJzCaEhs",
        "colab_type": "text"
      },
      "source": [
        "#### Membership operators\n",
        "\n",
        "in and not in are the membership operators in Python. They are used to test whether a value or variable is found in a sequence (string, list, tuple, set and dictionary). In a dictionary we can only test for presence of key, not the value"
      ]
    },
    {
      "cell_type": "code",
      "metadata": {
        "id": "W7-8OCIQaEhu",
        "colab_type": "code",
        "colab": {
          "base_uri": "https://localhost:8080/",
          "height": 84
        },
        "outputId": "f3af1813-28dc-4659-aa80-ddacc8792ecd"
      },
      "source": [
        "var1 = 'Hello world'          # string\n",
        "var2 = {1:'a',2:'b'}          # dictionary\n",
        "print('H' in var1)\n",
        "print('hello' not in var1)\n",
        "print(1 in var2)\n",
        "print('a' in var2)"
      ],
      "execution_count": 14,
      "outputs": [
        {
          "output_type": "stream",
          "text": [
            "True\n",
            "True\n",
            "True\n",
            "False\n"
          ],
          "name": "stdout"
        }
      ]
    },
    {
      "cell_type": "markdown",
      "metadata": {
        "id": "nlVQ-JcxaEhx",
        "colab_type": "text"
      },
      "source": [
        "#### Identity operatros\n",
        "\n",
        "is and is not are the identity operators in Python. They are used to check if two values (or variables) are located on the same part of the memory. Two variables that are equal do not imply that they are identical"
      ]
    },
    {
      "cell_type": "code",
      "metadata": {
        "id": "D5Du55g3aEhy",
        "colab_type": "code",
        "colab": {
          "base_uri": "https://localhost:8080/",
          "height": 67
        },
        "outputId": "811fc910-64f9-42d4-e762-4ff94a42d45b"
      },
      "source": [
        "var1 = 5\n",
        "var1 = 5\n",
        "var2 = 'Hello'\n",
        "var2 = 'Hello'\n",
        "var3 = [1,2,3]\n",
        "var3 = [1,2,3]\n",
        "print(var1 is not var1)\n",
        "print(var2 is var2)\n",
        "print(var3 is var3)"
      ],
      "execution_count": 15,
      "outputs": [
        {
          "output_type": "stream",
          "text": [
            "False\n",
            "True\n",
            "True\n"
          ],
          "name": "stdout"
        }
      ]
    },
    {
      "cell_type": "markdown",
      "metadata": {
        "id": "TsKA0zWtaEh1",
        "colab_type": "text"
      },
      "source": [
        "## Control structures¶\n",
        "\n",
        "A control structure is the basic decision-making process in computing. It is a block of programming that analyzes variables and chooses a direction in which to go based on given parameters"
      ]
    },
    {
      "cell_type": "code",
      "metadata": {
        "id": "Oc3mwtIwaEh2",
        "colab_type": "code",
        "colab": {
          "base_uri": "https://localhost:8080/",
          "height": 67
        },
        "outputId": "21a0a265-e1cb-4230-c4d2-f8b6e47edeb1"
      },
      "source": [
        "var = -1\n",
        "if var < 0:\n",
        "    print (var)\n",
        "    print (\"the value of var is negative\")\n",
        "    \n",
        "# If the suite of an if clause consists only of a single line, it may go on the same line as the header statement\n",
        "if ( var  == -1 ) : print (\"the value of var is negative\")"
      ],
      "execution_count": 16,
      "outputs": [
        {
          "output_type": "stream",
          "text": [
            "-1\n",
            "the value of var is negative\n",
            "the value of var is negative\n"
          ],
          "name": "stdout"
        }
      ]
    },
    {
      "cell_type": "code",
      "metadata": {
        "id": "-PNaTl8HaEh8",
        "colab_type": "code",
        "colab": {
          "base_uri": "https://localhost:8080/",
          "height": 50
        },
        "outputId": "6d226b39-dc22-411c-a110-864bcafa96a5"
      },
      "source": [
        "var = 1\n",
        "\n",
        "if var < 0:\n",
        "    print (\"the value of var is negative\")\n",
        "    print (var)\n",
        "else:\n",
        "    print (\"the value of var is positive\")\n",
        "    print (var)"
      ],
      "execution_count": 17,
      "outputs": [
        {
          "output_type": "stream",
          "text": [
            "the value of var is positive\n",
            "1\n"
          ],
          "name": "stdout"
        }
      ]
    },
    {
      "cell_type": "code",
      "metadata": {
        "id": "H4sFaYmjaEh_",
        "colab_type": "code",
        "colab": {
          "base_uri": "https://localhost:8080/",
          "height": 34
        },
        "outputId": "ac78d5c7-a787-4100-909d-a01007d0e9de"
      },
      "source": [
        "score = 95\n",
        "\n",
        "if score >= 99:\n",
        "    print('A')\n",
        "elif score >=75:\n",
        "    print('B')\n",
        "elif score >= 60:\n",
        "    print('C')\n",
        "elif score >= 35:\n",
        "    print('D')\n",
        "else:\n",
        "    print('F')"
      ],
      "execution_count": 18,
      "outputs": [
        {
          "output_type": "stream",
          "text": [
            "B\n"
          ],
          "name": "stdout"
        }
      ]
    },
    {
      "cell_type": "code",
      "metadata": {
        "id": "BPr6bwtLaEiC",
        "colab_type": "code",
        "colab": {
          "base_uri": "https://localhost:8080/",
          "height": 370
        },
        "outputId": "3e229031-0348-42e3-820b-4039645bef11"
      },
      "source": [
        "# First Example\n",
        "print (\"First Example\")\n",
        "for item in [1,2,3,4,5]:    \n",
        "    print ('item :', item)\n",
        "\n",
        "# Second Example    \n",
        "print (\"Second Example\")\n",
        "letters = ['A', 'B', 'C']\n",
        "for letter in letters:        \n",
        "    print ('First loop letter :', letter)\n",
        "\n",
        "# Third Example - Iterating by sequency index\n",
        "print (\"Third Example\")\n",
        "for index in range(len(letters)):\n",
        "    print ('First loop letter :', letters[index])\n",
        "\n",
        "# Fourth Example - Using else statement\n",
        "print (\"Fourth Example\")\n",
        "for item in [1,2,3,4,5]:    \n",
        "    print ('item :', item)    \n",
        "else:\n",
        "    print ('looping over item complete!')"
      ],
      "execution_count": 19,
      "outputs": [
        {
          "output_type": "stream",
          "text": [
            "First Example\n",
            "item : 1\n",
            "item : 2\n",
            "item : 3\n",
            "item : 4\n",
            "item : 5\n",
            "Second Example\n",
            "First loop letter : A\n",
            "First loop letter : B\n",
            "First loop letter : C\n",
            "Third Example\n",
            "First loop letter : A\n",
            "First loop letter : B\n",
            "First loop letter : C\n",
            "Fourth Example\n",
            "item : 1\n",
            "item : 2\n",
            "item : 3\n",
            "item : 4\n",
            "item : 5\n",
            "looping over item complete!\n"
          ],
          "name": "stdout"
        }
      ]
    },
    {
      "cell_type": "code",
      "metadata": {
        "id": "8Q17thDMaEiI",
        "colab_type": "code",
        "colab": {
          "base_uri": "https://localhost:8080/",
          "height": 101
        },
        "outputId": "06dcec9e-ecd9-4489-86f7-b14d4fe65f4d"
      },
      "source": [
        "count = 0\n",
        "while (count < 5):\n",
        "    print ('The count is:', count)\n",
        "    count = count + 1"
      ],
      "execution_count": 20,
      "outputs": [
        {
          "output_type": "stream",
          "text": [
            "The count is: 0\n",
            "The count is: 1\n",
            "The count is: 2\n",
            "The count is: 3\n",
            "The count is: 4\n"
          ],
          "name": "stdout"
        }
      ]
    },
    {
      "cell_type": "code",
      "metadata": {
        "id": "on95wkm9aEiM",
        "colab_type": "code",
        "colab": {
          "base_uri": "https://localhost:8080/",
          "height": 118
        },
        "outputId": "3da00cf8-31bd-49a4-f8db-70c03cff81d6"
      },
      "source": [
        "count = 0\n",
        "while count < 5:\n",
        "    print (count, \" is  less than 5\")\n",
        "    count = count + 1\n",
        "else:\n",
        "    print (count, \" is not less than 5\")"
      ],
      "execution_count": 21,
      "outputs": [
        {
          "output_type": "stream",
          "text": [
            "0  is  less than 5\n",
            "1  is  less than 5\n",
            "2  is  less than 5\n",
            "3  is  less than 5\n",
            "4  is  less than 5\n",
            "5  is not less than 5\n"
          ],
          "name": "stdout"
        }
      ]
    },
    {
      "cell_type": "code",
      "metadata": {
        "id": "KpWgcNyjaEiQ",
        "colab_type": "code",
        "colab": {
          "base_uri": "https://localhost:8080/",
          "height": 34
        },
        "outputId": "89b0ed7b-4e44-4af5-b5d8-99157d0c5e6b"
      },
      "source": [
        "# simple function to add two numbers\n",
        "def sum_two_numbers(a, b):\n",
        "    return a + b\n",
        "\n",
        "# after this line x will hold the value 3!\n",
        "x = sum_two_numbers(1,2)\n",
        "print (x)"
      ],
      "execution_count": 22,
      "outputs": [
        {
          "output_type": "stream",
          "text": [
            "3\n"
          ],
          "name": "stdout"
        }
      ]
    },
    {
      "cell_type": "code",
      "metadata": {
        "id": "-9l-ZCSOaEiU",
        "colab_type": "code",
        "colab": {
          "base_uri": "https://localhost:8080/",
          "height": 50
        },
        "outputId": "0474fbe3-220e-4877-88c4-e3018b568bbd"
      },
      "source": [
        "def sum_two_numbers(a, b = 10):\n",
        "    return a + b\n",
        "\n",
        "print (sum_two_numbers(10))\n",
        "print (sum_two_numbers(10, 5))"
      ],
      "execution_count": 23,
      "outputs": [
        {
          "output_type": "stream",
          "text": [
            "20\n",
            "15\n"
          ],
          "name": "stdout"
        }
      ]
    },
    {
      "cell_type": "code",
      "metadata": {
        "id": "S5TEe23GaEiY",
        "colab_type": "code",
        "colab": {
          "base_uri": "https://localhost:8080/",
          "height": 67
        },
        "outputId": "770e08dd-3e26-4203-f529-e2d94582ce1d"
      },
      "source": [
        "def foo(*args):\n",
        "    for a in args:\n",
        "        print (a)\n",
        "\n",
        "foo(1,2,3)        "
      ],
      "execution_count": 24,
      "outputs": [
        {
          "output_type": "stream",
          "text": [
            "1\n",
            "2\n",
            "3\n"
          ],
          "name": "stdout"
        }
      ]
    },
    {
      "cell_type": "code",
      "metadata": {
        "id": "jxh7sKzEaEic",
        "colab_type": "code",
        "colab": {
          "base_uri": "https://localhost:8080/",
          "height": 50
        },
        "outputId": "00cdc9c2-6a06-43d1-e150-90ac6e6d1395"
      },
      "source": [
        "def bar(**kwargs):\n",
        "    for a in kwargs:\n",
        "        print (a, kwargs[a])\n",
        "        \n",
        "bar(name='one', age=27)"
      ],
      "execution_count": 25,
      "outputs": [
        {
          "output_type": "stream",
          "text": [
            "name one\n",
            "age 27\n"
          ],
          "name": "stdout"
        }
      ]
    },
    {
      "cell_type": "markdown",
      "metadata": {
        "id": "--ZU-K4TaEig",
        "colab_type": "text"
      },
      "source": [
        "### Module\n",
        "\n",
        "A module is a logically organized multiple independent but related set of codes or functions or classes. The key principle behind module creating is it's easier to understand, use and efficient maintainability.\n",
        "\n",
        "When you import a module, it's loaded only once, regardless of the number of times it is imported. You can also import specific elements (functions, classes etc) from your module into the current namespace. "
      ]
    },
    {
      "cell_type": "code",
      "metadata": {
        "id": "lTjqPBdbaEih",
        "colab_type": "code",
        "colab": {}
      },
      "source": [
        "# Import all functions from a module\n",
        "import os                         # Method 1\n",
        "from os import *                  # Method 2"
      ],
      "execution_count": 0,
      "outputs": []
    },
    {
      "cell_type": "code",
      "metadata": {
        "id": "owiRuKoPaEij",
        "colab_type": "code",
        "colab": {}
      },
      "source": [
        "# Import a function named abc from the module os\n",
        "from os import abc"
      ],
      "execution_count": 0,
      "outputs": []
    },
    {
      "cell_type": "markdown",
      "metadata": {
        "id": "OoFa2ADwaEim",
        "colab_type": "text"
      },
      "source": [
        "dir() is a built-in function of module os, running this will return a sorted list of strings containing the names of all the modules, variables and functions that are defined in a module"
      ]
    },
    {
      "cell_type": "code",
      "metadata": {
        "id": "qK11zmI6aEim",
        "colab_type": "code",
        "colab": {
          "base_uri": "https://localhost:8080/",
          "height": 54
        },
        "outputId": "5c823520-9fc6-4071-88c5-57711cb5bb7d"
      },
      "source": [
        "import os\n",
        "\n",
        "content = dir(os)\n",
        "\n",
        "print (content)"
      ],
      "execution_count": 29,
      "outputs": [
        {
          "output_type": "stream",
          "text": [
            "['CLD_CONTINUED', 'CLD_DUMPED', 'CLD_EXITED', 'CLD_TRAPPED', 'DirEntry', 'EX_CANTCREAT', 'EX_CONFIG', 'EX_DATAERR', 'EX_IOERR', 'EX_NOHOST', 'EX_NOINPUT', 'EX_NOPERM', 'EX_NOUSER', 'EX_OK', 'EX_OSERR', 'EX_OSFILE', 'EX_PROTOCOL', 'EX_SOFTWARE', 'EX_TEMPFAIL', 'EX_UNAVAILABLE', 'EX_USAGE', 'F_LOCK', 'F_OK', 'F_TEST', 'F_TLOCK', 'F_ULOCK', 'GRND_NONBLOCK', 'GRND_RANDOM', 'MutableMapping', 'NGROUPS_MAX', 'O_ACCMODE', 'O_APPEND', 'O_ASYNC', 'O_CLOEXEC', 'O_CREAT', 'O_DIRECT', 'O_DIRECTORY', 'O_DSYNC', 'O_EXCL', 'O_LARGEFILE', 'O_NDELAY', 'O_NOATIME', 'O_NOCTTY', 'O_NOFOLLOW', 'O_NONBLOCK', 'O_PATH', 'O_RDONLY', 'O_RDWR', 'O_RSYNC', 'O_SYNC', 'O_TMPFILE', 'O_TRUNC', 'O_WRONLY', 'POSIX_FADV_DONTNEED', 'POSIX_FADV_NOREUSE', 'POSIX_FADV_NORMAL', 'POSIX_FADV_RANDOM', 'POSIX_FADV_SEQUENTIAL', 'POSIX_FADV_WILLNEED', 'PRIO_PGRP', 'PRIO_PROCESS', 'PRIO_USER', 'P_ALL', 'P_NOWAIT', 'P_NOWAITO', 'P_PGID', 'P_PID', 'P_WAIT', 'PathLike', 'RTLD_DEEPBIND', 'RTLD_GLOBAL', 'RTLD_LAZY', 'RTLD_LOCAL', 'RTLD_NODELETE', 'RTLD_NOLOAD', 'RTLD_NOW', 'R_OK', 'SCHED_BATCH', 'SCHED_FIFO', 'SCHED_IDLE', 'SCHED_OTHER', 'SCHED_RESET_ON_FORK', 'SCHED_RR', 'SEEK_CUR', 'SEEK_DATA', 'SEEK_END', 'SEEK_HOLE', 'SEEK_SET', 'ST_APPEND', 'ST_MANDLOCK', 'ST_NOATIME', 'ST_NODEV', 'ST_NODIRATIME', 'ST_NOEXEC', 'ST_NOSUID', 'ST_RDONLY', 'ST_RELATIME', 'ST_SYNCHRONOUS', 'ST_WRITE', 'TMP_MAX', 'WCONTINUED', 'WCOREDUMP', 'WEXITED', 'WEXITSTATUS', 'WIFCONTINUED', 'WIFEXITED', 'WIFSIGNALED', 'WIFSTOPPED', 'WNOHANG', 'WNOWAIT', 'WSTOPPED', 'WSTOPSIG', 'WTERMSIG', 'WUNTRACED', 'W_OK', 'XATTR_CREATE', 'XATTR_REPLACE', 'XATTR_SIZE_MAX', 'X_OK', '_Environ', '__all__', '__builtins__', '__cached__', '__doc__', '__file__', '__loader__', '__name__', '__package__', '__spec__', '_execvpe', '_exists', '_exit', '_fspath', '_fwalk', '_get_exports_list', '_putenv', '_spawnvef', '_unsetenv', '_wrap_close', 'abc', 'abort', 'access', 'altsep', 'chdir', 'chmod', 'chown', 'chroot', 'close', 'closerange', 'confstr', 'confstr_names', 'cpu_count', 'ctermid', 'curdir', 'defpath', 'device_encoding', 'devnull', 'dup', 'dup2', 'environ', 'environb', 'errno', 'error', 'execl', 'execle', 'execlp', 'execlpe', 'execv', 'execve', 'execvp', 'execvpe', 'extsep', 'fchdir', 'fchmod', 'fchown', 'fdatasync', 'fdopen', 'fork', 'forkpty', 'fpathconf', 'fsdecode', 'fsencode', 'fspath', 'fstat', 'fstatvfs', 'fsync', 'ftruncate', 'fwalk', 'get_blocking', 'get_exec_path', 'get_inheritable', 'get_terminal_size', 'getcwd', 'getcwdb', 'getegid', 'getenv', 'getenvb', 'geteuid', 'getgid', 'getgrouplist', 'getgroups', 'getloadavg', 'getlogin', 'getpgid', 'getpgrp', 'getpid', 'getppid', 'getpriority', 'getrandom', 'getresgid', 'getresuid', 'getsid', 'getuid', 'getxattr', 'initgroups', 'isatty', 'kill', 'killpg', 'lchown', 'linesep', 'link', 'listdir', 'listxattr', 'lockf', 'lseek', 'lstat', 'major', 'makedev', 'makedirs', 'minor', 'mkdir', 'mkfifo', 'mknod', 'name', 'nice', 'open', 'openpty', 'pardir', 'path', 'pathconf', 'pathconf_names', 'pathsep', 'pipe', 'pipe2', 'popen', 'posix_fadvise', 'posix_fallocate', 'pread', 'putenv', 'pwrite', 'read', 'readlink', 'readv', 'remove', 'removedirs', 'removexattr', 'rename', 'renames', 'replace', 'rmdir', 'scandir', 'sched_get_priority_max', 'sched_get_priority_min', 'sched_getaffinity', 'sched_getparam', 'sched_getscheduler', 'sched_param', 'sched_rr_get_interval', 'sched_setaffinity', 'sched_setparam', 'sched_setscheduler', 'sched_yield', 'sendfile', 'sep', 'set_blocking', 'set_inheritable', 'setegid', 'seteuid', 'setgid', 'setgroups', 'setpgid', 'setpgrp', 'setpriority', 'setregid', 'setresgid', 'setresuid', 'setreuid', 'setsid', 'setuid', 'setxattr', 'spawnl', 'spawnle', 'spawnlp', 'spawnlpe', 'spawnv', 'spawnve', 'spawnvp', 'spawnvpe', 'st', 'stat', 'stat_float_times', 'stat_result', 'statvfs', 'statvfs_result', 'strerror', 'supports_bytes_environ', 'supports_dir_fd', 'supports_effective_ids', 'supports_fd', 'supports_follow_symlinks', 'symlink', 'sync', 'sys', 'sysconf', 'sysconf_names', 'system', 'tcgetpgrp', 'tcsetpgrp', 'terminal_size', 'times', 'times_result', 'truncate', 'ttyname', 'umask', 'uname', 'uname_result', 'unlink', 'unsetenv', 'urandom', 'utime', 'wait', 'wait3', 'wait4', 'waitid', 'waitid_result', 'waitpid', 'walk', 'write', 'writev']\n"
          ],
          "name": "stdout"
        }
      ]
    }
  ]
}